{
 "cells": [
  {
   "cell_type": "raw",
   "metadata": {},
   "source": [
    "Project PUBG"
   ]
  },
  {
   "cell_type": "code",
   "execution_count": 50,
   "metadata": {},
   "outputs": [
    {
     "data": {
      "text/html": [
       "<div>\n",
       "<style scoped>\n",
       "    .dataframe tbody tr th:only-of-type {\n",
       "        vertical-align: middle;\n",
       "    }\n",
       "\n",
       "    .dataframe tbody tr th {\n",
       "        vertical-align: top;\n",
       "    }\n",
       "\n",
       "    .dataframe thead th {\n",
       "        text-align: right;\n",
       "    }\n",
       "</style>\n",
       "<table border=\"1\" class=\"dataframe\">\n",
       "  <thead>\n",
       "    <tr style=\"text-align: right;\">\n",
       "      <th></th>\n",
       "      <th>Id</th>\n",
       "      <th>groupId</th>\n",
       "      <th>matchId</th>\n",
       "      <th>assists</th>\n",
       "      <th>boosts</th>\n",
       "      <th>damageDealt</th>\n",
       "      <th>DBNOs</th>\n",
       "      <th>headshotKills</th>\n",
       "      <th>heals</th>\n",
       "      <th>killPlace</th>\n",
       "      <th>...</th>\n",
       "      <th>revives</th>\n",
       "      <th>rideDistance</th>\n",
       "      <th>roadKills</th>\n",
       "      <th>swimDistance</th>\n",
       "      <th>teamKills</th>\n",
       "      <th>vehicleDestroys</th>\n",
       "      <th>walkDistance</th>\n",
       "      <th>weaponsAcquired</th>\n",
       "      <th>winPoints</th>\n",
       "      <th>winPlacePerc</th>\n",
       "    </tr>\n",
       "  </thead>\n",
       "  <tbody>\n",
       "    <tr>\n",
       "      <th>0</th>\n",
       "      <td>2f262dd9795e60</td>\n",
       "      <td>78437bcd91d40e</td>\n",
       "      <td>d5db3a49eb2955</td>\n",
       "      <td>0</td>\n",
       "      <td>0</td>\n",
       "      <td>0.0</td>\n",
       "      <td>0</td>\n",
       "      <td>0</td>\n",
       "      <td>0</td>\n",
       "      <td>92</td>\n",
       "      <td>...</td>\n",
       "      <td>0</td>\n",
       "      <td>0.0</td>\n",
       "      <td>0</td>\n",
       "      <td>0.0</td>\n",
       "      <td>0</td>\n",
       "      <td>0</td>\n",
       "      <td>0.00</td>\n",
       "      <td>0</td>\n",
       "      <td>1470</td>\n",
       "      <td>0.0000</td>\n",
       "    </tr>\n",
       "    <tr>\n",
       "      <th>1</th>\n",
       "      <td>a32847cf5bf34b</td>\n",
       "      <td>85b7ce5a12e10b</td>\n",
       "      <td>65223f05c7fdb4</td>\n",
       "      <td>0</td>\n",
       "      <td>0</td>\n",
       "      <td>163.2</td>\n",
       "      <td>1</td>\n",
       "      <td>1</td>\n",
       "      <td>0</td>\n",
       "      <td>42</td>\n",
       "      <td>...</td>\n",
       "      <td>0</td>\n",
       "      <td>0.0</td>\n",
       "      <td>0</td>\n",
       "      <td>0.0</td>\n",
       "      <td>0</td>\n",
       "      <td>0</td>\n",
       "      <td>132.70</td>\n",
       "      <td>2</td>\n",
       "      <td>1531</td>\n",
       "      <td>0.2222</td>\n",
       "    </tr>\n",
       "    <tr>\n",
       "      <th>2</th>\n",
       "      <td>1b1900a9990396</td>\n",
       "      <td>edf80d6523380a</td>\n",
       "      <td>1cadec4534f30a</td>\n",
       "      <td>0</td>\n",
       "      <td>3</td>\n",
       "      <td>278.7</td>\n",
       "      <td>2</td>\n",
       "      <td>1</td>\n",
       "      <td>8</td>\n",
       "      <td>16</td>\n",
       "      <td>...</td>\n",
       "      <td>3</td>\n",
       "      <td>0.0</td>\n",
       "      <td>0</td>\n",
       "      <td>0.0</td>\n",
       "      <td>0</td>\n",
       "      <td>0</td>\n",
       "      <td>3591.00</td>\n",
       "      <td>10</td>\n",
       "      <td>0</td>\n",
       "      <td>0.8571</td>\n",
       "    </tr>\n",
       "    <tr>\n",
       "      <th>3</th>\n",
       "      <td>f589dd03b60bf2</td>\n",
       "      <td>804ab5e5585558</td>\n",
       "      <td>c4a5676dc91604</td>\n",
       "      <td>0</td>\n",
       "      <td>0</td>\n",
       "      <td>191.9</td>\n",
       "      <td>1</td>\n",
       "      <td>0</td>\n",
       "      <td>0</td>\n",
       "      <td>31</td>\n",
       "      <td>...</td>\n",
       "      <td>0</td>\n",
       "      <td>0.0</td>\n",
       "      <td>0</td>\n",
       "      <td>0.0</td>\n",
       "      <td>0</td>\n",
       "      <td>0</td>\n",
       "      <td>332.70</td>\n",
       "      <td>3</td>\n",
       "      <td>0</td>\n",
       "      <td>0.3462</td>\n",
       "    </tr>\n",
       "    <tr>\n",
       "      <th>4</th>\n",
       "      <td>c23c4cc5b78b35</td>\n",
       "      <td>b3e2cd169ed920</td>\n",
       "      <td>cd595700a01bfa</td>\n",
       "      <td>0</td>\n",
       "      <td>0</td>\n",
       "      <td>100.0</td>\n",
       "      <td>1</td>\n",
       "      <td>0</td>\n",
       "      <td>0</td>\n",
       "      <td>87</td>\n",
       "      <td>...</td>\n",
       "      <td>0</td>\n",
       "      <td>0.0</td>\n",
       "      <td>0</td>\n",
       "      <td>0.0</td>\n",
       "      <td>0</td>\n",
       "      <td>0</td>\n",
       "      <td>252.70</td>\n",
       "      <td>3</td>\n",
       "      <td>1557</td>\n",
       "      <td>0.0690</td>\n",
       "    </tr>\n",
       "    <tr>\n",
       "      <th>...</th>\n",
       "      <td>...</td>\n",
       "      <td>...</td>\n",
       "      <td>...</td>\n",
       "      <td>...</td>\n",
       "      <td>...</td>\n",
       "      <td>...</td>\n",
       "      <td>...</td>\n",
       "      <td>...</td>\n",
       "      <td>...</td>\n",
       "      <td>...</td>\n",
       "      <td>...</td>\n",
       "      <td>...</td>\n",
       "      <td>...</td>\n",
       "      <td>...</td>\n",
       "      <td>...</td>\n",
       "      <td>...</td>\n",
       "      <td>...</td>\n",
       "      <td>...</td>\n",
       "      <td>...</td>\n",
       "      <td>...</td>\n",
       "      <td>...</td>\n",
       "    </tr>\n",
       "    <tr>\n",
       "      <th>9995</th>\n",
       "      <td>ef4f474acd8e85</td>\n",
       "      <td>2eca2a8391f75d</td>\n",
       "      <td>492ecdfae90b46</td>\n",
       "      <td>0</td>\n",
       "      <td>3</td>\n",
       "      <td>204.5</td>\n",
       "      <td>1</td>\n",
       "      <td>0</td>\n",
       "      <td>0</td>\n",
       "      <td>17</td>\n",
       "      <td>...</td>\n",
       "      <td>3</td>\n",
       "      <td>0.0</td>\n",
       "      <td>0</td>\n",
       "      <td>0.0</td>\n",
       "      <td>0</td>\n",
       "      <td>0</td>\n",
       "      <td>1648.00</td>\n",
       "      <td>4</td>\n",
       "      <td>1471</td>\n",
       "      <td>0.8333</td>\n",
       "    </tr>\n",
       "    <tr>\n",
       "      <th>9996</th>\n",
       "      <td>cf0bf82fb4d80e</td>\n",
       "      <td>2eaf2765f93adb</td>\n",
       "      <td>14bffd71e96320</td>\n",
       "      <td>0</td>\n",
       "      <td>0</td>\n",
       "      <td>0.0</td>\n",
       "      <td>0</td>\n",
       "      <td>0</td>\n",
       "      <td>0</td>\n",
       "      <td>49</td>\n",
       "      <td>...</td>\n",
       "      <td>0</td>\n",
       "      <td>0.0</td>\n",
       "      <td>0</td>\n",
       "      <td>0.0</td>\n",
       "      <td>0</td>\n",
       "      <td>0</td>\n",
       "      <td>897.10</td>\n",
       "      <td>6</td>\n",
       "      <td>1500</td>\n",
       "      <td>0.7174</td>\n",
       "    </tr>\n",
       "    <tr>\n",
       "      <th>9997</th>\n",
       "      <td>a0a31a0b1dcbe1</td>\n",
       "      <td>8d50c64ccc5071</td>\n",
       "      <td>147e4bbb62e3bb</td>\n",
       "      <td>0</td>\n",
       "      <td>0</td>\n",
       "      <td>0.0</td>\n",
       "      <td>0</td>\n",
       "      <td>0</td>\n",
       "      <td>0</td>\n",
       "      <td>83</td>\n",
       "      <td>...</td>\n",
       "      <td>0</td>\n",
       "      <td>0.0</td>\n",
       "      <td>0</td>\n",
       "      <td>0.0</td>\n",
       "      <td>0</td>\n",
       "      <td>0</td>\n",
       "      <td>188.20</td>\n",
       "      <td>2</td>\n",
       "      <td>1434</td>\n",
       "      <td>0.2083</td>\n",
       "    </tr>\n",
       "    <tr>\n",
       "      <th>9998</th>\n",
       "      <td>f6874657399d69</td>\n",
       "      <td>d31843d7e62ccb</td>\n",
       "      <td>662567dcf280f5</td>\n",
       "      <td>0</td>\n",
       "      <td>0</td>\n",
       "      <td>0.0</td>\n",
       "      <td>0</td>\n",
       "      <td>0</td>\n",
       "      <td>0</td>\n",
       "      <td>82</td>\n",
       "      <td>...</td>\n",
       "      <td>0</td>\n",
       "      <td>0.0</td>\n",
       "      <td>0</td>\n",
       "      <td>0.0</td>\n",
       "      <td>0</td>\n",
       "      <td>0</td>\n",
       "      <td>108.10</td>\n",
       "      <td>5</td>\n",
       "      <td>1534</td>\n",
       "      <td>0.2449</td>\n",
       "    </tr>\n",
       "    <tr>\n",
       "      <th>9999</th>\n",
       "      <td>90359b0b8f8b0d</td>\n",
       "      <td>61d5b1bb8da43f</td>\n",
       "      <td>258bfa48d88014</td>\n",
       "      <td>0</td>\n",
       "      <td>0</td>\n",
       "      <td>0.0</td>\n",
       "      <td>0</td>\n",
       "      <td>0</td>\n",
       "      <td>0</td>\n",
       "      <td>78</td>\n",
       "      <td>...</td>\n",
       "      <td>0</td>\n",
       "      <td>0.0</td>\n",
       "      <td>0</td>\n",
       "      <td>0.0</td>\n",
       "      <td>0</td>\n",
       "      <td>0</td>\n",
       "      <td>53.36</td>\n",
       "      <td>1</td>\n",
       "      <td>0</td>\n",
       "      <td>0.1875</td>\n",
       "    </tr>\n",
       "  </tbody>\n",
       "</table>\n",
       "<p>10000 rows × 29 columns</p>\n",
       "</div>"
      ],
      "text/plain": [
       "                  Id         groupId         matchId  assists  boosts  \\\n",
       "0     2f262dd9795e60  78437bcd91d40e  d5db3a49eb2955        0       0   \n",
       "1     a32847cf5bf34b  85b7ce5a12e10b  65223f05c7fdb4        0       0   \n",
       "2     1b1900a9990396  edf80d6523380a  1cadec4534f30a        0       3   \n",
       "3     f589dd03b60bf2  804ab5e5585558  c4a5676dc91604        0       0   \n",
       "4     c23c4cc5b78b35  b3e2cd169ed920  cd595700a01bfa        0       0   \n",
       "...              ...             ...             ...      ...     ...   \n",
       "9995  ef4f474acd8e85  2eca2a8391f75d  492ecdfae90b46        0       3   \n",
       "9996  cf0bf82fb4d80e  2eaf2765f93adb  14bffd71e96320        0       0   \n",
       "9997  a0a31a0b1dcbe1  8d50c64ccc5071  147e4bbb62e3bb        0       0   \n",
       "9998  f6874657399d69  d31843d7e62ccb  662567dcf280f5        0       0   \n",
       "9999  90359b0b8f8b0d  61d5b1bb8da43f  258bfa48d88014        0       0   \n",
       "\n",
       "      damageDealt  DBNOs  headshotKills  heals  killPlace  ...  revives  \\\n",
       "0             0.0      0              0      0         92  ...        0   \n",
       "1           163.2      1              1      0         42  ...        0   \n",
       "2           278.7      2              1      8         16  ...        3   \n",
       "3           191.9      1              0      0         31  ...        0   \n",
       "4           100.0      1              0      0         87  ...        0   \n",
       "...           ...    ...            ...    ...        ...  ...      ...   \n",
       "9995        204.5      1              0      0         17  ...        3   \n",
       "9996          0.0      0              0      0         49  ...        0   \n",
       "9997          0.0      0              0      0         83  ...        0   \n",
       "9998          0.0      0              0      0         82  ...        0   \n",
       "9999          0.0      0              0      0         78  ...        0   \n",
       "\n",
       "      rideDistance  roadKills  swimDistance  teamKills vehicleDestroys  \\\n",
       "0              0.0          0           0.0          0               0   \n",
       "1              0.0          0           0.0          0               0   \n",
       "2              0.0          0           0.0          0               0   \n",
       "3              0.0          0           0.0          0               0   \n",
       "4              0.0          0           0.0          0               0   \n",
       "...            ...        ...           ...        ...             ...   \n",
       "9995           0.0          0           0.0          0               0   \n",
       "9996           0.0          0           0.0          0               0   \n",
       "9997           0.0          0           0.0          0               0   \n",
       "9998           0.0          0           0.0          0               0   \n",
       "9999           0.0          0           0.0          0               0   \n",
       "\n",
       "      walkDistance  weaponsAcquired  winPoints  winPlacePerc  \n",
       "0             0.00                0       1470        0.0000  \n",
       "1           132.70                2       1531        0.2222  \n",
       "2          3591.00               10          0        0.8571  \n",
       "3           332.70                3          0        0.3462  \n",
       "4           252.70                3       1557        0.0690  \n",
       "...            ...              ...        ...           ...  \n",
       "9995       1648.00                4       1471        0.8333  \n",
       "9996        897.10                6       1500        0.7174  \n",
       "9997        188.20                2       1434        0.2083  \n",
       "9998        108.10                5       1534        0.2449  \n",
       "9999         53.36                1          0        0.1875  \n",
       "\n",
       "[10000 rows x 29 columns]"
      ]
     },
     "execution_count": 50,
     "metadata": {},
     "output_type": "execute_result"
    }
   ],
   "source": [
    "#TASK 1\n",
    "import pandas as pd\n",
    "data = pd.read_csv('pubg - Dr. Darshan Ingle.csv')\n",
    "data"
   ]
  },
  {
   "cell_type": "code",
   "execution_count": null,
   "metadata": {},
   "outputs": [],
   "source": [
    "#TASK 2\n",
    "print(type(data.columns))"
   ]
  },
  {
   "cell_type": "code",
   "execution_count": null,
   "metadata": {},
   "outputs": [],
   "source": [
    "#TASK 3\n",
    "data.describe()"
   ]
  },
  {
   "cell_type": "code",
   "execution_count": null,
   "metadata": {},
   "outputs": [],
   "source": [
    "#TASK 3\n",
    "analysis = ['walkDistance', 'killPlace', 'boosts', 'weaponsAcquired','swimDistance','revives','headshotKills','heals','kills']\n",
    "# findings\n",
    "for item in analysis:\n",
    "    print('The average for {} was {:.2f}'.format(item, data[item].mean()))\n",
    "    print('The standard deviation for {} was {:.2f}'.format(item, data[item].std()))\n",
    "    print('The minimum for {} was {}'.format(item, data[item].min()))\n",
    "    print('The maximum for {} was {}'.format(item, data[item].max()))\n",
    "    print()\n",
    "\n"
   ]
  },
  {
   "cell_type": "raw",
   "metadata": {},
   "source": [
    "TASK 4 "
   ]
  },
  {
   "cell_type": "code",
   "execution_count": null,
   "metadata": {},
   "outputs": [],
   "source": [
    "print('The average for kills',data[item].mean())"
   ]
  },
  {
   "cell_type": "raw",
   "metadata": {},
   "source": [
    "TASK 5"
   ]
  },
  {
   "cell_type": "code",
   "execution_count": 67,
   "metadata": {},
   "outputs": [
    {
     "name": "stdout",
     "output_type": "stream",
     "text": [
      "total players are 10000\n",
      "99% of total players 9900.0\n",
      "total kills 9134\n",
      "99% have kills  9042\n"
     ]
    }
   ],
   "source": [
    "total = data['Id'].count()\n",
    "print('total players are',total)\n",
    "total_kills = (total*99)/100\n",
    "print('99% of total players',total_kills)\n",
    "print('total kills',data['kills'].sum())\n",
    "print('99% have kills ',int((data['kills'].sum())*0.99))"
   ]
  },
  {
   "cell_type": "raw",
   "metadata": {},
   "source": [
    "TASK 6"
   ]
  },
  {
   "cell_type": "code",
   "execution_count": 68,
   "metadata": {},
   "outputs": [
    {
     "name": "stdout",
     "output_type": "stream",
     "text": [
      "the most ever recorded kills are  35\n"
     ]
    }
   ],
   "source": [
    "print('the most ever recorded kills are ',data['kills'].max())"
   ]
  },
  {
   "cell_type": "raw",
   "metadata": {},
   "source": [
    "TASK 7"
   ]
  },
  {
   "cell_type": "code",
   "execution_count": 69,
   "metadata": {},
   "outputs": [
    {
     "data": {
      "text/plain": [
       "Index(['Id', 'groupId', 'matchId', 'assists', 'boosts', 'damageDealt', 'DBNOs',\n",
       "       'headshotKills', 'heals', 'killPlace', 'killPoints', 'kills',\n",
       "       'killStreaks', 'longestKill', 'matchDuration', 'matchType', 'maxPlace',\n",
       "       'numGroups', 'rankPoints', 'revives', 'rideDistance', 'roadKills',\n",
       "       'swimDistance', 'teamKills', 'vehicleDestroys', 'walkDistance',\n",
       "       'weaponsAcquired', 'winPoints', 'winPlacePerc'],\n",
       "      dtype='object')"
      ]
     },
     "execution_count": 69,
     "metadata": {},
     "output_type": "execute_result"
    }
   ],
   "source": [
    "data.columns"
   ]
  },
  {
   "cell_type": "raw",
   "metadata": {},
   "source": [
    "TASK 8"
   ]
  },
  {
   "cell_type": "code",
   "execution_count": 70,
   "metadata": {},
   "outputs": [
    {
     "name": "stdout",
     "output_type": "stream",
     "text": [
      "the longest duration is  2202\n",
      "the shortest duration is  464\n",
      "the average duration is  1575.398\n"
     ]
    },
    {
     "data": {
      "text/plain": [
       "count    10000.000000\n",
       "mean      1575.398000\n",
       "std        258.963515\n",
       "min        464.000000\n",
       "25%       1366.000000\n",
       "50%       1431.500000\n",
       "75%       1849.250000\n",
       "max       2202.000000\n",
       "Name: matchDuration, dtype: float64"
      ]
     },
     "execution_count": 70,
     "metadata": {},
     "output_type": "execute_result"
    },
    {
     "data": {
      "image/png": "[encoded data removed]",
      "text/plain": [
       "<Figure size 432x288 with 1 Axes>"
      ]
     },
     "metadata": {
      "needs_background": "light"
     },
     "output_type": "display_data"
    }
   ],
   "source": [
    "import seaborn as sns\n",
    "sns.distplot(data['matchDuration']);\n",
    "print('the longest duration is ',data['matchDuration'].max())\n",
    "print('the shortest duration is ',data['matchDuration'].min())\n",
    "print('the average duration is ',data['matchDuration'].mean())\n",
    "data['matchDuration'].describe()"
   ]
  },
  {
   "cell_type": "raw",
   "metadata": {},
   "source": [
    "TASK 9"
   ]
  },
  {
   "cell_type": "code",
   "execution_count": 71,
   "metadata": {},
   "outputs": [
    {
     "name": "stdout",
     "output_type": "stream",
     "text": [
      "the longest walk is  10490.0\n",
      "the shortest walk is  0.0\n",
      "the average walk is  1130.0084103600002\n"
     ]
    },
    {
     "data": {
      "text/plain": [
       "count    10000.000000\n",
       "mean      1130.008410\n",
       "std       1168.597983\n",
       "min          0.000000\n",
       "25%        151.575000\n",
       "50%        650.350000\n",
       "75%       1923.250000\n",
       "max      10490.000000\n",
       "Name: walkDistance, dtype: float64"
      ]
     },
     "execution_count": 71,
     "metadata": {},
     "output_type": "execute_result"
    },
    {
     "data": {
      "image/png": "[encoded data removed]",
      "text/plain": [
       "<Figure size 432x288 with 1 Axes>"
      ]
     },
     "metadata": {
      "needs_background": "light"
     },
     "output_type": "display_data"
    }
   ],
   "source": [
    "import seaborn as sns\n",
    "sns.distplot(data['walkDistance']);\n",
    "print('the longest walk is ',data['walkDistance'].max())\n",
    "print('the shortest walk is ',data['walkDistance'].min())\n",
    "print('the average walk is ',data['walkDistance'].mean())\n",
    "data['walkDistance'].describe()"
   ]
  },
  {
   "cell_type": "raw",
   "metadata": {},
   "source": [
    "TASK 10\n"
   ]
  },
  {
   "cell_type": "code",
   "execution_count": 74,
   "metadata": {},
   "outputs": [
    {
     "data": {
      "image/png": "[encoded data removed]",
      "text/plain": [
       "<Figure size 432x288 with 1 Axes>"
      ]
     },
     "metadata": {
      "needs_background": "light"
     },
     "output_type": "display_data"
    }
   ],
   "source": [
    "import seaborn as sns\n",
    "sns.distplot(data[['matchDuration','walkDistance']]);\n"
   ]
  },
  {
   "cell_type": "raw",
   "metadata": {},
   "source": [
    "TASK 11"
   ]
  },
  {
   "cell_type": "code",
   "execution_count": 92,
   "metadata": {},
   "outputs": [
    {
     "data": {
      "image/png": "[encoded data removed]",
      "text/plain": [
       "<Figure size 432x288 with 1 Axes>"
      ]
     },
     "metadata": {
      "needs_background": "light"
     },
     "output_type": "display_data"
    }
   ],
   "source": [
    "import seaborn as sns\n",
    "sns.distplot(data[['matchDuration','walkDistance']]);\n"
   ]
  },
  {
   "cell_type": "raw",
   "metadata": {},
   "source": [
    "TASK 12"
   ]
  },
  {
   "cell_type": "code",
   "execution_count": null,
   "metadata": {
    "scrolled": true
   },
   "outputs": [],
   "source": [
    "#TASK 12\n",
    "import seaborn as sns\n",
    "sns.pairplot(data)\n",
    "\n"
   ]
  },
  {
   "cell_type": "raw",
   "metadata": {},
   "source": [
    "TASK 13"
   ]
  },
  {
   "cell_type": "code",
   "execution_count": 18,
   "metadata": {},
   "outputs": [
    {
     "name": "stdout",
     "output_type": "stream",
     "text": [
      "the unique list is ['squad-fpp' 'squad' 'duo-fpp' 'solo-fpp' 'duo' 'solo' 'crashfpp'\n",
      " 'flaretpp' 'normal-squad-fpp' 'normal-duo-fpp' 'flarefpp' 'normal-squad'\n",
      " 'normal-solo-fpp' 'crashtpp']\n",
      "the count is  14\n"
     ]
    }
   ],
   "source": [
    "import pandas as pd\n",
    "data['matchType']\n",
    "data1 = pd.DataFrame(data)\n",
    "unique = data1.matchType.unique()\n",
    "n = len(unique)\n",
    "print('the unique list is',unique)\n",
    "print('the count is ',n)"
   ]
  },
  {
   "cell_type": "raw",
   "metadata": {},
   "source": [
    "TASK 14"
   ]
  },
  {
   "cell_type": "code",
   "execution_count": 26,
   "metadata": {},
   "outputs": [
    {
     "name": "stdout",
     "output_type": "stream",
     "text": [
      "the below graph represents KillPoints vs matchType\n",
      "from the above graph we can conclude that\n",
      "The x axis represent the matchType and the y axis represent the KillPoints\n"
     ]
    },
    {
     "data": {
      "image/png": "[encoded data removed]",
      "text/plain": [
       "<Figure size 432x288 with 1 Axes>"
      ]
     },
     "metadata": {
      "needs_background": "light"
     },
     "output_type": "display_data"
    }
   ],
   "source": [
    "import matplotlib.pyplot as plt\n",
    "import seaborn as sns\n",
    "sns.barplot(x = 'matchType', y = 'killPoints',data = data);\n",
    "print('the below graph represents KillPoints vs matchType')\n",
    "print('from the above graph we can conclude that\\nThe x axis represent the matchType and the y axis represent the KillPoints')\n",
    "plt.xticks(rotation=90)"
   ]
  },
  {
   "cell_type": "raw",
   "metadata": {},
   "source": [
    "TASK 15"
   ]
  },
  {
   "cell_type": "code",
   "execution_count": 73,
   "metadata": {},
   "outputs": [
    {
     "name": "stdout",
     "output_type": "stream",
     "text": [
      "Inferences\n",
      "nthe below graph represents weaponsAcquired vs matchType\n",
      "from the above graph we can conclude that\n",
      "The x axis represent the matchType and the y axis represent the weaponsAcquired \n"
     ]
    },
    {
     "data": {
      "text/plain": [
       "(array([ 0,  1,  2,  3,  4,  5,  6,  7,  8,  9, 10, 11, 12, 13]),\n",
       " <a list of 14 Text major ticklabel objects>)"
      ]
     },
     "execution_count": 73,
     "metadata": {},
     "output_type": "execute_result"
    },
    {
     "data": {
      "image/png": "[encoded data removed]",
      "text/plain": [
       "<Figure size 432x288 with 1 Axes>"
      ]
     },
     "metadata": {
      "needs_background": "light"
     },
     "output_type": "display_data"
    }
   ],
   "source": [
    "import matplotlib.pyplot as plt\n",
    "import seaborn as sns\n",
    "print('Inferences\\nnthe below graph represents weaponsAcquired vs matchType')\n",
    "print('from the above graph we can conclude that\\nThe x axis represent the matchType and the y axis represent the weaponsAcquired ')\n",
    "sns.barplot(x = 'matchType', y = 'weaponsAcquired',data = data);\n",
    "plt.xticks(rotation=90)"
   ]
  },
  {
   "cell_type": "raw",
   "metadata": {},
   "source": [
    "TASK 16"
   ]
  },
  {
   "cell_type": "code",
   "execution_count": 99,
   "metadata": {},
   "outputs": [
    {
     "data": {
      "text/plain": [
       "4"
      ]
     },
     "execution_count": 99,
     "metadata": {},
     "output_type": "execute_result"
    }
   ],
   "source": [
    "import pandas as pd\n",
    "len(data.select_dtypes(include=['object']).dtypes)"
   ]
  },
  {
   "cell_type": "raw",
   "metadata": {},
   "source": [
    "TASK 17"
   ]
  },
  {
   "cell_type": "code",
   "execution_count": 72,
   "metadata": {},
   "outputs": [
    {
     "name": "stdout",
     "output_type": "stream",
     "text": [
      "Inferences\n",
      "the below graph represents winPlacePerc vs matchType\n",
      "from the above graph we can conclude that\n",
      "The x axis represent the matchType and the y axis represent the winPlacePerc\n"
     ]
    },
    {
     "data": {
      "text/plain": [
       "(array([ 0,  1,  2,  3,  4,  5,  6,  7,  8,  9, 10, 11, 12, 13]),\n",
       " <a list of 14 Text major ticklabel objects>)"
      ]
     },
     "execution_count": 72,
     "metadata": {},
     "output_type": "execute_result"
    },
    {
     "data": {
      "image/png": "[encoded data removed]",
      "text/plain": [
       "<Figure size 432x288 with 1 Axes>"
      ]
     },
     "metadata": {
      "needs_background": "light"
     },
     "output_type": "display_data"
    }
   ],
   "source": [
    "import matplotlib.pyplot as plt\n",
    "import seaborn as sns\n",
    "sns.boxplot(x = 'matchType', y = 'winPlacePerc',data = data);\n",
    "print('Inferences\\nthe below graph represents winPlacePerc vs matchType')\n",
    "print('from the above graph we can conclude that\\nThe x axis represent the matchType and the y axis represent the winPlacePerc')\n",
    "plt.xticks(rotation=90)"
   ]
  },
  {
   "cell_type": "raw",
   "metadata": {},
   "source": [
    "TASK 18"
   ]
  },
  {
   "cell_type": "code",
   "execution_count": 81,
   "metadata": {},
   "outputs": [
    {
     "name": "stdout",
     "output_type": "stream",
     "text": [
      "Inferences\n",
      "the below graph represents matchDuration vs matchType\n",
      "from the above graph we can conclude that\n",
      "The x axis represent the matchType and the y axis represent the matchDuration\n"
     ]
    },
    {
     "data": {
      "text/plain": [
       "(array([ 0,  1,  2,  3,  4,  5,  6,  7,  8,  9, 10, 11, 12, 13]),\n",
       " <a list of 14 Text major ticklabel objects>)"
      ]
     },
     "execution_count": 81,
     "metadata": {},
     "output_type": "execute_result"
    },
    {
     "data": {
      "image/png": "[encoded data removed]",
      "text/plain": [
       "<Figure size 432x288 with 1 Axes>"
      ]
     },
     "metadata": {
      "needs_background": "light"
     },
     "output_type": "display_data"
    }
   ],
   "source": [
    "import matplotlib.pyplot as plt\n",
    "import seaborn as sns\n",
    "sns.boxplot(x = 'matchType', y = 'matchDuration',data = data);\n",
    "print('Inferences\\nthe below graph represents matchDuration vs matchType')\n",
    "print('from the above graph we can conclude that\\nThe x axis represent the matchType and the y axis represent the matchDuration')\n",
    "plt.xticks(rotation=90)"
   ]
  },
  {
   "cell_type": "raw",
   "metadata": {},
   "source": [
    "TASK 19"
   ]
  },
  {
   "cell_type": "code",
   "execution_count": 40,
   "metadata": {},
   "outputs": [
    {
     "data": {
      "text/plain": [
       "(array([ 250.,  500.,  750., 1000., 1250., 1500., 1750., 2000., 2250.,\n",
       "        2500.]),\n",
       " <a list of 10 Text major ticklabel objects>)"
      ]
     },
     "execution_count": 40,
     "metadata": {},
     "output_type": "execute_result"
    },
    {
     "data": {
      "image/png": "[encoded data removed]",
      "text/plain": [
       "<Figure size 432x288 with 1 Axes>"
      ]
     },
     "metadata": {
      "needs_background": "light"
     },
     "output_type": "display_data"
    }
   ],
   "source": [
    "import matplotlib.pyplot as plt\n",
    "import seaborn as sns\n",
    "sns.boxplot(x = 'matchDuration', y = 'matchType',data = data);\n",
    "plt.xticks(rotation=0)"
   ]
  },
  {
   "cell_type": "raw",
   "metadata": {},
   "source": [
    "TASK 20"
   ]
  },
  {
   "cell_type": "code",
   "execution_count": 44,
   "metadata": {},
   "outputs": [
    {
     "data": {
      "text/html": [
       "<div>\n",
       "<style scoped>\n",
       "    .dataframe tbody tr th:only-of-type {\n",
       "        vertical-align: middle;\n",
       "    }\n",
       "\n",
       "    .dataframe tbody tr th {\n",
       "        vertical-align: top;\n",
       "    }\n",
       "\n",
       "    .dataframe thead th {\n",
       "        text-align: right;\n",
       "    }\n",
       "</style>\n",
       "<table border=\"1\" class=\"dataframe\">\n",
       "  <thead>\n",
       "    <tr style=\"text-align: right;\">\n",
       "      <th></th>\n",
       "      <th>Id</th>\n",
       "      <th>groupId</th>\n",
       "      <th>matchId</th>\n",
       "      <th>assists</th>\n",
       "      <th>boosts</th>\n",
       "      <th>damageDealt</th>\n",
       "      <th>DBNOs</th>\n",
       "      <th>headshotKills</th>\n",
       "      <th>heals</th>\n",
       "      <th>killPlace</th>\n",
       "      <th>...</th>\n",
       "      <th>rideDistance</th>\n",
       "      <th>roadKills</th>\n",
       "      <th>swimDistance</th>\n",
       "      <th>teamKills</th>\n",
       "      <th>vehicleDestroys</th>\n",
       "      <th>walkDistance</th>\n",
       "      <th>weaponsAcquired</th>\n",
       "      <th>winPoints</th>\n",
       "      <th>winPlacePerc</th>\n",
       "      <th>KILL</th>\n",
       "    </tr>\n",
       "  </thead>\n",
       "  <tbody>\n",
       "    <tr>\n",
       "      <th>0</th>\n",
       "      <td>2f262dd9795e60</td>\n",
       "      <td>78437bcd91d40e</td>\n",
       "      <td>d5db3a49eb2955</td>\n",
       "      <td>0</td>\n",
       "      <td>0</td>\n",
       "      <td>0.0</td>\n",
       "      <td>0</td>\n",
       "      <td>0</td>\n",
       "      <td>0</td>\n",
       "      <td>92</td>\n",
       "      <td>...</td>\n",
       "      <td>0.0</td>\n",
       "      <td>0</td>\n",
       "      <td>0.0</td>\n",
       "      <td>0</td>\n",
       "      <td>0</td>\n",
       "      <td>0.00</td>\n",
       "      <td>0</td>\n",
       "      <td>1470</td>\n",
       "      <td>0.0000</td>\n",
       "      <td>0</td>\n",
       "    </tr>\n",
       "    <tr>\n",
       "      <th>1</th>\n",
       "      <td>a32847cf5bf34b</td>\n",
       "      <td>85b7ce5a12e10b</td>\n",
       "      <td>65223f05c7fdb4</td>\n",
       "      <td>0</td>\n",
       "      <td>0</td>\n",
       "      <td>163.2</td>\n",
       "      <td>1</td>\n",
       "      <td>1</td>\n",
       "      <td>0</td>\n",
       "      <td>42</td>\n",
       "      <td>...</td>\n",
       "      <td>0.0</td>\n",
       "      <td>0</td>\n",
       "      <td>0.0</td>\n",
       "      <td>0</td>\n",
       "      <td>0</td>\n",
       "      <td>132.70</td>\n",
       "      <td>2</td>\n",
       "      <td>1531</td>\n",
       "      <td>0.2222</td>\n",
       "      <td>1</td>\n",
       "    </tr>\n",
       "    <tr>\n",
       "      <th>2</th>\n",
       "      <td>1b1900a9990396</td>\n",
       "      <td>edf80d6523380a</td>\n",
       "      <td>1cadec4534f30a</td>\n",
       "      <td>0</td>\n",
       "      <td>3</td>\n",
       "      <td>278.7</td>\n",
       "      <td>2</td>\n",
       "      <td>1</td>\n",
       "      <td>8</td>\n",
       "      <td>16</td>\n",
       "      <td>...</td>\n",
       "      <td>0.0</td>\n",
       "      <td>0</td>\n",
       "      <td>0.0</td>\n",
       "      <td>0</td>\n",
       "      <td>0</td>\n",
       "      <td>3591.00</td>\n",
       "      <td>10</td>\n",
       "      <td>0</td>\n",
       "      <td>0.8571</td>\n",
       "      <td>1</td>\n",
       "    </tr>\n",
       "    <tr>\n",
       "      <th>3</th>\n",
       "      <td>f589dd03b60bf2</td>\n",
       "      <td>804ab5e5585558</td>\n",
       "      <td>c4a5676dc91604</td>\n",
       "      <td>0</td>\n",
       "      <td>0</td>\n",
       "      <td>191.9</td>\n",
       "      <td>1</td>\n",
       "      <td>0</td>\n",
       "      <td>0</td>\n",
       "      <td>31</td>\n",
       "      <td>...</td>\n",
       "      <td>0.0</td>\n",
       "      <td>0</td>\n",
       "      <td>0.0</td>\n",
       "      <td>0</td>\n",
       "      <td>0</td>\n",
       "      <td>332.70</td>\n",
       "      <td>3</td>\n",
       "      <td>0</td>\n",
       "      <td>0.3462</td>\n",
       "      <td>0</td>\n",
       "    </tr>\n",
       "    <tr>\n",
       "      <th>4</th>\n",
       "      <td>c23c4cc5b78b35</td>\n",
       "      <td>b3e2cd169ed920</td>\n",
       "      <td>cd595700a01bfa</td>\n",
       "      <td>0</td>\n",
       "      <td>0</td>\n",
       "      <td>100.0</td>\n",
       "      <td>1</td>\n",
       "      <td>0</td>\n",
       "      <td>0</td>\n",
       "      <td>87</td>\n",
       "      <td>...</td>\n",
       "      <td>0.0</td>\n",
       "      <td>0</td>\n",
       "      <td>0.0</td>\n",
       "      <td>0</td>\n",
       "      <td>0</td>\n",
       "      <td>252.70</td>\n",
       "      <td>3</td>\n",
       "      <td>1557</td>\n",
       "      <td>0.0690</td>\n",
       "      <td>0</td>\n",
       "    </tr>\n",
       "    <tr>\n",
       "      <th>...</th>\n",
       "      <td>...</td>\n",
       "      <td>...</td>\n",
       "      <td>...</td>\n",
       "      <td>...</td>\n",
       "      <td>...</td>\n",
       "      <td>...</td>\n",
       "      <td>...</td>\n",
       "      <td>...</td>\n",
       "      <td>...</td>\n",
       "      <td>...</td>\n",
       "      <td>...</td>\n",
       "      <td>...</td>\n",
       "      <td>...</td>\n",
       "      <td>...</td>\n",
       "      <td>...</td>\n",
       "      <td>...</td>\n",
       "      <td>...</td>\n",
       "      <td>...</td>\n",
       "      <td>...</td>\n",
       "      <td>...</td>\n",
       "      <td>...</td>\n",
       "    </tr>\n",
       "    <tr>\n",
       "      <th>9995</th>\n",
       "      <td>ef4f474acd8e85</td>\n",
       "      <td>2eca2a8391f75d</td>\n",
       "      <td>492ecdfae90b46</td>\n",
       "      <td>0</td>\n",
       "      <td>3</td>\n",
       "      <td>204.5</td>\n",
       "      <td>1</td>\n",
       "      <td>0</td>\n",
       "      <td>0</td>\n",
       "      <td>17</td>\n",
       "      <td>...</td>\n",
       "      <td>0.0</td>\n",
       "      <td>0</td>\n",
       "      <td>0.0</td>\n",
       "      <td>0</td>\n",
       "      <td>0</td>\n",
       "      <td>1648.00</td>\n",
       "      <td>4</td>\n",
       "      <td>1471</td>\n",
       "      <td>0.8333</td>\n",
       "      <td>0</td>\n",
       "    </tr>\n",
       "    <tr>\n",
       "      <th>9996</th>\n",
       "      <td>cf0bf82fb4d80e</td>\n",
       "      <td>2eaf2765f93adb</td>\n",
       "      <td>14bffd71e96320</td>\n",
       "      <td>0</td>\n",
       "      <td>0</td>\n",
       "      <td>0.0</td>\n",
       "      <td>0</td>\n",
       "      <td>0</td>\n",
       "      <td>0</td>\n",
       "      <td>49</td>\n",
       "      <td>...</td>\n",
       "      <td>0.0</td>\n",
       "      <td>0</td>\n",
       "      <td>0.0</td>\n",
       "      <td>0</td>\n",
       "      <td>0</td>\n",
       "      <td>897.10</td>\n",
       "      <td>6</td>\n",
       "      <td>1500</td>\n",
       "      <td>0.7174</td>\n",
       "      <td>0</td>\n",
       "    </tr>\n",
       "    <tr>\n",
       "      <th>9997</th>\n",
       "      <td>a0a31a0b1dcbe1</td>\n",
       "      <td>8d50c64ccc5071</td>\n",
       "      <td>147e4bbb62e3bb</td>\n",
       "      <td>0</td>\n",
       "      <td>0</td>\n",
       "      <td>0.0</td>\n",
       "      <td>0</td>\n",
       "      <td>0</td>\n",
       "      <td>0</td>\n",
       "      <td>83</td>\n",
       "      <td>...</td>\n",
       "      <td>0.0</td>\n",
       "      <td>0</td>\n",
       "      <td>0.0</td>\n",
       "      <td>0</td>\n",
       "      <td>0</td>\n",
       "      <td>188.20</td>\n",
       "      <td>2</td>\n",
       "      <td>1434</td>\n",
       "      <td>0.2083</td>\n",
       "      <td>0</td>\n",
       "    </tr>\n",
       "    <tr>\n",
       "      <th>9998</th>\n",
       "      <td>f6874657399d69</td>\n",
       "      <td>d31843d7e62ccb</td>\n",
       "      <td>662567dcf280f5</td>\n",
       "      <td>0</td>\n",
       "      <td>0</td>\n",
       "      <td>0.0</td>\n",
       "      <td>0</td>\n",
       "      <td>0</td>\n",
       "      <td>0</td>\n",
       "      <td>82</td>\n",
       "      <td>...</td>\n",
       "      <td>0.0</td>\n",
       "      <td>0</td>\n",
       "      <td>0.0</td>\n",
       "      <td>0</td>\n",
       "      <td>0</td>\n",
       "      <td>108.10</td>\n",
       "      <td>5</td>\n",
       "      <td>1534</td>\n",
       "      <td>0.2449</td>\n",
       "      <td>0</td>\n",
       "    </tr>\n",
       "    <tr>\n",
       "      <th>9999</th>\n",
       "      <td>90359b0b8f8b0d</td>\n",
       "      <td>61d5b1bb8da43f</td>\n",
       "      <td>258bfa48d88014</td>\n",
       "      <td>0</td>\n",
       "      <td>0</td>\n",
       "      <td>0.0</td>\n",
       "      <td>0</td>\n",
       "      <td>0</td>\n",
       "      <td>0</td>\n",
       "      <td>78</td>\n",
       "      <td>...</td>\n",
       "      <td>0.0</td>\n",
       "      <td>0</td>\n",
       "      <td>0.0</td>\n",
       "      <td>0</td>\n",
       "      <td>0</td>\n",
       "      <td>53.36</td>\n",
       "      <td>1</td>\n",
       "      <td>0</td>\n",
       "      <td>0.1875</td>\n",
       "      <td>0</td>\n",
       "    </tr>\n",
       "  </tbody>\n",
       "</table>\n",
       "<p>10000 rows × 30 columns</p>\n",
       "</div>"
      ],
      "text/plain": [
       "                  Id         groupId         matchId  assists  boosts  \\\n",
       "0     2f262dd9795e60  78437bcd91d40e  d5db3a49eb2955        0       0   \n",
       "1     a32847cf5bf34b  85b7ce5a12e10b  65223f05c7fdb4        0       0   \n",
       "2     1b1900a9990396  edf80d6523380a  1cadec4534f30a        0       3   \n",
       "3     f589dd03b60bf2  804ab5e5585558  c4a5676dc91604        0       0   \n",
       "4     c23c4cc5b78b35  b3e2cd169ed920  cd595700a01bfa        0       0   \n",
       "...              ...             ...             ...      ...     ...   \n",
       "9995  ef4f474acd8e85  2eca2a8391f75d  492ecdfae90b46        0       3   \n",
       "9996  cf0bf82fb4d80e  2eaf2765f93adb  14bffd71e96320        0       0   \n",
       "9997  a0a31a0b1dcbe1  8d50c64ccc5071  147e4bbb62e3bb        0       0   \n",
       "9998  f6874657399d69  d31843d7e62ccb  662567dcf280f5        0       0   \n",
       "9999  90359b0b8f8b0d  61d5b1bb8da43f  258bfa48d88014        0       0   \n",
       "\n",
       "      damageDealt  DBNOs  headshotKills  heals  killPlace  ...  rideDistance  \\\n",
       "0             0.0      0              0      0         92  ...           0.0   \n",
       "1           163.2      1              1      0         42  ...           0.0   \n",
       "2           278.7      2              1      8         16  ...           0.0   \n",
       "3           191.9      1              0      0         31  ...           0.0   \n",
       "4           100.0      1              0      0         87  ...           0.0   \n",
       "...           ...    ...            ...    ...        ...  ...           ...   \n",
       "9995        204.5      1              0      0         17  ...           0.0   \n",
       "9996          0.0      0              0      0         49  ...           0.0   \n",
       "9997          0.0      0              0      0         83  ...           0.0   \n",
       "9998          0.0      0              0      0         82  ...           0.0   \n",
       "9999          0.0      0              0      0         78  ...           0.0   \n",
       "\n",
       "      roadKills  swimDistance  teamKills  vehicleDestroys walkDistance  \\\n",
       "0             0           0.0          0                0         0.00   \n",
       "1             0           0.0          0                0       132.70   \n",
       "2             0           0.0          0                0      3591.00   \n",
       "3             0           0.0          0                0       332.70   \n",
       "4             0           0.0          0                0       252.70   \n",
       "...         ...           ...        ...              ...          ...   \n",
       "9995          0           0.0          0                0      1648.00   \n",
       "9996          0           0.0          0                0       897.10   \n",
       "9997          0           0.0          0                0       188.20   \n",
       "9998          0           0.0          0                0       108.10   \n",
       "9999          0           0.0          0                0        53.36   \n",
       "\n",
       "      weaponsAcquired  winPoints  winPlacePerc  KILL  \n",
       "0                   0       1470        0.0000     0  \n",
       "1                   2       1531        0.2222     1  \n",
       "2                  10          0        0.8571     1  \n",
       "3                   3          0        0.3462     0  \n",
       "4                   3       1557        0.0690     0  \n",
       "...               ...        ...           ...   ...  \n",
       "9995                4       1471        0.8333     0  \n",
       "9996                6       1500        0.7174     0  \n",
       "9997                2       1434        0.2083     0  \n",
       "9998                5       1534        0.2449     0  \n",
       "9999                1          0        0.1875     0  \n",
       "\n",
       "[10000 rows x 30 columns]"
      ]
     },
     "execution_count": 44,
     "metadata": {},
     "output_type": "execute_result"
    }
   ],
   "source": [
    "data['KILL'] = data['headshotKills'] + data['teamKills'] + data['roadKills']\n",
    "data"
   ]
  },
  {
   "cell_type": "raw",
   "metadata": {},
   "source": [
    "TASK 21"
   ]
  },
  {
   "cell_type": "code",
   "execution_count": 48,
   "metadata": {},
   "outputs": [
    {
     "data": {
      "text/plain": [
       "0       0.00\n",
       "1       0.22\n",
       "2       0.86\n",
       "3       0.35\n",
       "4       0.07\n",
       "        ... \n",
       "9995    0.83\n",
       "9996    0.72\n",
       "9997    0.21\n",
       "9998    0.24\n",
       "9999    0.19\n",
       "Name: winPlacePerc, Length: 10000, dtype: float64"
      ]
     },
     "execution_count": 48,
     "metadata": {},
     "output_type": "execute_result"
    }
   ],
   "source": [
    "round(data['winPlacePerc'],2)\n"
   ]
  },
  {
   "cell_type": "raw",
   "metadata": {},
   "source": [
    "TASK 22"
   ]
  },
  {
   "cell_type": "code",
   "execution_count": 66,
   "metadata": {},
   "outputs": [
    {
     "name": "stdout",
     "output_type": "stream",
     "text": [
      "the mean of 50 samples from column damageDealt is  37.48\n",
      "\n",
      "the distribution is:\n"
     ]
    },
    {
     "data": {
      "text/plain": [
       "count     50.000000\n",
       "mean      37.483800\n",
       "std       41.386058\n",
       "min        0.000000\n",
       "25%        0.000000\n",
       "50%       20.280000\n",
       "75%       85.865000\n",
       "max      100.000000\n",
       "dtype: float64"
      ]
     },
     "execution_count": 66,
     "metadata": {},
     "output_type": "execute_result"
    },
    {
     "data": {
      "image/png": "[encoded data removed]",
      "text/plain": [
       "<Figure size 432x288 with 1 Axes>"
      ]
     },
     "metadata": {
      "needs_background": "light"
     },
     "output_type": "display_data"
    }
   ],
   "source": [
    "import pandas as pd\n",
    "import matplotlib.pyplot as plt\n",
    "list1 =[]\n",
    "for item in data['damageDealt']:\n",
    "    if item <= 100:\n",
    "        list1.append(item)\n",
    "list1 = list1[0:50]\n",
    "new= pd.Series(list1)\n",
    "print('the mean of 50 samples from column damageDealt is ',round(new.mean(),2))\n",
    "print()\n",
    "plt.hist(new);\n",
    "print('the distribution is:')\n",
    "new.describe()"
   ]
  }
 ],
 "metadata": {
  "kernelspec": {
   "display_name": "Python 3",
   "language": "python",
   "name": "python3"
  },
  "language_info": {
   "codemirror_mode": {
    "name": "ipython",
    "version": 3
   },
   "file_extension": ".py",
   "mimetype": "text/x-python",
   "name": "python",
   "nbconvert_exporter": "python",
   "pygments_lexer": "ipython3",
   "version": "3.8.3"
  }
 },
 "nbformat": 4,
 "nbformat_minor": 4
}
