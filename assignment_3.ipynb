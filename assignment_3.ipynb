{
 "cells": [
  {
   "cell_type": "raw",
   "metadata": {},
   "source": [
    "Problem 1"
   ]
  },
  {
   "cell_type": "code",
   "execution_count": 2,
   "metadata": {},
   "outputs": [
    {
     "data": {
      "text/plain": [
       "array([ 2,  5,  8, 11, 14, 17, 20, 23, 26, 29, 32, 35, 38, 41, 44, 47])"
      ]
     },
     "execution_count": 2,
     "metadata": {},
     "output_type": "execute_result"
    }
   ],
   "source": [
    "import numpy as np\n",
    "np.arange(2,50,3)"
   ]
  },
  {
   "cell_type": "raw",
   "metadata": {},
   "source": [
    "Problem 2"
   ]
  },
  {
   "cell_type": "code",
   "execution_count": 13,
   "metadata": {},
   "outputs": [
    {
     "name": "stdout",
     "output_type": "stream",
     "text": [
      "enter to print in list1\n",
      "2\n",
      "Enter to print in list2\n",
      "1\n",
      "enter to print in list1\n",
      "4\n",
      "Enter to print in list2\n",
      "5\n",
      "enter to print in list1\n",
      "3\n",
      "Enter to print in list2\n",
      "0\n",
      "enter to print in list1\n",
      "9\n",
      "Enter to print in list2\n",
      "7\n",
      "enter to print in list1\n",
      "66\n",
      "Enter to print in list2\n",
      "11\n",
      "[2, 4, 3, 9, 66]\n",
      "[1, 5, 0, 7, 11]\n",
      "\n",
      "[[ 2  4  3  9 66]\n",
      " [ 1  5  0  7 11]]\n",
      "[[ 2  4  3  9 66  1  5  0  7 11]]\n"
     ]
    },
    {
     "data": {
      "text/plain": [
       "array([[ 0,  1,  2,  3,  4,  5,  7,  9, 11, 66]])"
      ]
     },
     "execution_count": 13,
     "metadata": {},
     "output_type": "execute_result"
    }
   ],
   "source": [
    "list1 = []\n",
    "list2 = []\n",
    "for i in range(5):\n",
    "    it1 = int(input('enter to print in list1\\n'))\n",
    "    it2 = int(input('Enter to print in list2\\n'))\n",
    "    list1.append(it1)\n",
    "    list2.append(it2)\n",
    "print(list1)\n",
    "print(list2)\n",
    "print()\n",
    "arra = np.array([list1,list2])\n",
    "print(arra)\n",
    "arra1 = arra.reshape(1,10)\n",
    "print(arra1)\n",
    "arra1.sort()\n",
    "print(arra1)\n",
    "arranew = arra1.reshape(2,5)\n",
    "arranew\n"
   ]
  },
  {
   "cell_type": "raw",
   "metadata": {},
   "source": [
    "Problem 3"
   ]
  },
  {
   "cell_type": "code",
   "execution_count": 17,
   "metadata": {},
   "outputs": [
    {
     "name": "stdout",
     "output_type": "stream",
     "text": [
      "[0 1 2 3 4 5 6 7 8 9]\n",
      "[[0 1 2 3 4]\n",
      " [5 6 7 8 9]]\n",
      "size of array is \n",
      "10\n",
      "dimensions of array are \n",
      "2\n"
     ]
    }
   ],
   "source": [
    "import numpy as np\n",
    "arra1 = np.arange(10)\n",
    "print(arra1)\n",
    "print()\n",
    "arra2 = arra1.reshape(2,5)\n",
    "print(arra2)\n",
    "print('size of array is ')\n",
    "print(arra2.size)\n",
    "print('dimensions of array are ')\n",
    "print(arra2.ndim)"
   ]
  },
  {
   "cell_type": "raw",
   "metadata": {},
   "source": [
    "Problem 4"
   ]
  },
  {
   "cell_type": "code",
   "execution_count": 21,
   "metadata": {},
   "outputs": [
    {
     "name": "stdout",
     "output_type": "stream",
     "text": [
      "[  2  34   4   5   2 445]\n",
      "\n",
      "[[  2  34   4]\n",
      " [  5   2 445]]\n"
     ]
    }
   ],
   "source": [
    "array1 = np.array([2,34,4,5,2,445])\n",
    "print(array1)\n",
    "array2 = array1.reshape(2,3)\n",
    "print()\n",
    "print(array2)\n"
   ]
  },
  {
   "cell_type": "raw",
   "metadata": {},
   "source": [
    "Problem 5"
   ]
  },
  {
   "cell_type": "code",
   "execution_count": 25,
   "metadata": {},
   "outputs": [
    {
     "name": "stdout",
     "output_type": "stream",
     "text": [
      "The vertical stack is\n",
      " [[1 2]\n",
      " [3 4]\n",
      " [5 6]\n",
      " [7 8]]\n",
      "\n",
      "The Horizontal stack is\n",
      " [[1 2 5 6]\n",
      " [3 4 7 8]]\n"
     ]
    }
   ],
   "source": [
    "array1 = np.array([[1,2],\n",
    "                   [3,4]])\n",
    "\n",
    "array2 = np.array([[5,6],\n",
    "                   [7,8]])\n",
    "\n",
    "print('The vertical stack is\\n',np.vstack((array1,array2)))\n",
    "      \n",
    "print('\\nThe Horizontal stack is\\n',np.hstack((array1, array2)))"
   ]
  },
  {
   "cell_type": "raw",
   "metadata": {},
   "source": [
    "Problem 6"
   ]
  },
  {
   "cell_type": "code",
   "execution_count": 30,
   "metadata": {},
   "outputs": [
    {
     "name": "stdout",
     "output_type": "stream",
     "text": [
      "the unique values from 1st list is\n",
      "10\n",
      "20\n",
      "30\n",
      "40\n",
      "No of unique items are: 4\n"
     ]
    }
   ],
   "source": [
    "def unique_value(list1):  \n",
    "    unique_list = [] \n",
    "    for x in list1: \n",
    "        if x not in unique_list: \n",
    "            unique_list.append(x) \n",
    "    for x in unique_list: \n",
    "        print(x)\n",
    "      \n",
    "list1 = [10, 20, 20, 30, 40, 40] \n",
    "print(\"the unique values from 1st list is\") \n",
    "unique_value(list1) \n",
    "list1 = [10, 20, 20, 30, 40, 40]\n",
    "l1 = [] \n",
    "count = 0\n",
    "for item in list1: \n",
    "    if item not in l1: \n",
    "        count += 1\n",
    "        l1.append(item) \n",
    "print(\"No of unique items are:\", count) "
   ]
  },
  {
   "cell_type": "code",
   "execution_count": null,
   "metadata": {},
   "outputs": [],
   "source": []
  }
 ],
 "metadata": {
  "kernelspec": {
   "display_name": "Python 3",
   "language": "python",
   "name": "python3"
  }
 },
 "nbformat": 4,
 "nbformat_minor": 4
}
