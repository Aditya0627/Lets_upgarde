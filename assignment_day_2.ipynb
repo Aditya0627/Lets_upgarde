{
 "cells": [
  {
   "cell_type": "raw",
   "metadata": {},
   "source": [
    "Problem 1"
   ]
  },
  {
   "cell_type": "code",
   "execution_count": 2,
   "metadata": {},
   "outputs": [
    {
     "name": "stdout",
     "output_type": "stream",
     "text": [
      "1\n",
      "2\n",
      "3\n",
      "4\n",
      "5\n",
      "6\n",
      "7\n",
      "8\n",
      "9\n",
      "10\n",
      "[2, 4, 6, 8, 10]\n"
     ]
    }
   ],
   "source": [
    "list1=[]\n",
    "for i in range(10):\n",
    "    i = int(input())\n",
    "    if i%2 == 0:\n",
    "        list1.append(i)\n",
    "    else:\n",
    "        continue\n",
    "print(list1)"
   ]
  },
  {
   "cell_type": "raw",
   "metadata": {},
   "source": [
    "Problem 2"
   ]
  },
  {
   "cell_type": "code",
   "execution_count": 46,
   "metadata": {},
   "outputs": [
    {
     "name": "stdout",
     "output_type": "stream",
     "text": [
      "h\n",
      "e\n",
      "l\n",
      "l'\n",
      "o\n",
      "['h', 'e', 'l', \"l'\", 'o']\n",
      "['h', 'e', 'l', \"l'\", 'o']\n",
      "['h', 'e', 'l', 'l', 'o']\n"
     ]
    }
   ],
   "source": [
    "#list comprehension\n",
    "list1 = []\n",
    "#appending item\n",
    "for i in range(5):\n",
    "    item = input()\n",
    "    list1.append(item)\n",
    "print(list1)\n",
    "\n",
    "#second way\n",
    "list_2 = [item for item in list1]\n",
    "print(list_2)\n",
    "#another way\n",
    "list_3 = list(map(lambda x : x, 'hello'))\n",
    "print(list_3)"
   ]
  },
  {
   "cell_type": "code",
   "execution_count": 20,
   "metadata": {},
   "outputs": [
    {
     "name": "stdout",
     "output_type": "stream",
     "text": [
      "5\n",
      "[1, 0.5, 2, 3, 4, 5]\n",
      "[0.5, 2, 3, 4, 5]\n",
      "[0.5, 2, 3, 4]\n",
      "[]\n",
      "[1, 2, 4, 7, 8]\n",
      "[8, 7, 4, 2, 1]\n",
      "3\n",
      "[1, 2, 4, 7, 8]\n",
      "[1, 2, 4, 7, 8]\n",
      "<class 'list'>\n",
      "3\n"
     ]
    }
   ],
   "source": [
    "#knowing lenght of a list\n",
    "list2 = [1,2,3,4,5]\n",
    "print(len(list2))\n",
    "#adding new item in a list at a particular index\n",
    "list2.insert(1,0.5)\n",
    "print(list2)\n",
    "#removing any item just put that value of item\n",
    "list2.remove(1)\n",
    "print(list2)\n",
    "#using pop() function to remove item one by one from the last \n",
    "list2.pop()\n",
    "print(list2)\n",
    "#using clear() to clear the list\n",
    "list2.clear()\n",
    "print(list2)\n",
    "list3 = [2, 8, 7, 1, 4]\n",
    "#to sort the list we use sort() function\n",
    "list3.sort()\n",
    "print(list3)\n",
    "#by default sorted in ascending order to print in descending order\n",
    "list3.sort(reverse=True)\n",
    "print(list3)\n",
    "#to know the index of any value at a particular index\n",
    "print(list3.index(2))\n",
    "#we can reverse the list using reverse()\n",
    "list3.reverse()\n",
    "print(list3)\n",
    "#adding multiple items in list\n",
    "#list3.extend('mango','papaya','cheese')\n",
    "print(list3)\n",
    "#we can find the type of our data structure\n",
    "print(type(list3))\n",
    "#we can count number of occurance of any number in the list\n",
    "list4 = [1,2,3,4,1,5,6,1]\n",
    "print(list4.count(1))"
   ]
  },
  {
   "cell_type": "code",
   "execution_count": 26,
   "metadata": {},
   "outputs": [
    {
     "name": "stdout",
     "output_type": "stream",
     "text": [
      "[1, 2, 3]\n",
      "[1, 2, 3, 'apple', 4.5, 'banana', 5]\n",
      "[1, 2, 3, 'apple', 4.5, 'banana']\n",
      "['banana']\n",
      "[2, 3, 'apple', 4.5]\n",
      "[1, 2, 3, 'apple', 4.5, 'banana', 5, 8, 9, 10]\n"
     ]
    }
   ],
   "source": [
    "#slicing in list\n",
    "list5 = [1,2,3,'apple',4.5,'banana',5]\n",
    "print(list5[0:3])\n",
    "#it will print from 0 to 3-1=2\n",
    "print(list5[0:])\n",
    "#full list will be printed\n",
    "print(list5[:-1])\n",
    "#reverse indexing is available in python\n",
    "print(list5[-2:-1])\n",
    "#let us try more slicing\n",
    "print(list5[1:5])\n",
    "#adding two lists\n",
    "list6 = [8,9,10]\n",
    "list5 = list5 + list6\n",
    "print(list5)"
   ]
  },
  {
   "cell_type": "raw",
   "metadata": {},
   "source": [
    "Problem 3"
   ]
  },
  {
   "cell_type": "code",
   "execution_count": 28,
   "metadata": {},
   "outputs": [
    {
     "name": "stdout",
     "output_type": "stream",
     "text": [
      "Number of entities:\n",
      "5\n",
      "{1: 1, 2: 4, 3: 9, 4: 16, 5: 25}\n"
     ]
    }
   ],
   "source": [
    "dict1 ={}\n",
    "n = int(input('Number of entities:\\n'))\n",
    "for i in range(1,n+1):\n",
    "    dict1.update({i : i*i})\n",
    "print(dict1)"
   ]
  },
  {
   "cell_type": "raw",
   "metadata": {},
   "source": [
    "Problem 4\n"
   ]
  },
  {
   "cell_type": "code",
   "execution_count": 39,
   "metadata": {},
   "outputs": [
    {
     "name": "stdout",
     "output_type": "stream",
     "text": [
      "enter the direction as UP\t DOWN\t RIGHT\t LEFT\t with including steps with a space between themUP 5\n",
      "enter the direction as UP\t DOWN\t RIGHT\t LEFT\t with including steps with a space between themDOWN 3\n",
      "enter the direction as UP\t DOWN\t RIGHT\t LEFT\t with including steps with a space between themRIGHT 3\n",
      "enter the direction as UP\t DOWN\t RIGHT\t LEFT\t with including steps with a space between themLEFT 2\n",
      "enter the direction as UP\t DOWN\t RIGHT\t LEFT\t with including steps with a space between them1\n",
      "wrong choice\n",
      "distance 2\n"
     ]
    }
   ],
   "source": [
    "import math\n",
    "x=0\n",
    "y=0\n",
    "while(True):\n",
    "    direct_steps = input(\"enter the direction as UP\\t DOWN\\t RIGHT\\t LEFT\\t with including steps with a space between them\")\n",
    "    if not direct_steps:\n",
    "        break\n",
    "    else:\n",
    "        steps = direct_steps.split(\" \")\n",
    "        if steps[0] =='UP':\n",
    "            y = y+ int(steps[1])\n",
    "        elif steps[0] == 'DOWN':\n",
    "            y = y - int(steps[1])\n",
    "        elif steps[0] == 'RIGHT':\n",
    "            x = x+ int(steps[1])\n",
    "        elif steps[0] =='LEFT':\n",
    "            x = x- int(steps[1])\n",
    "        else:\n",
    "            print('okay lets calculate')\n",
    "            break\n",
    "distance = int(round(math.sqrt(x**2+y**2)))\n",
    "print('distance',distance)\n",
    "\n",
    "        \n",
    "    \n",
    "    "
   ]
  },
  {
   "cell_type": "code",
   "execution_count": null,
   "metadata": {},
   "outputs": [],
   "source": []
  }
 ],
 "metadata": {
  "kernelspec": {
   "display_name": "Python 3",
   "language": "python",
   "name": "python3"
  },
  "language_info": {
   "codemirror_mode": {
    "name": "ipython",
    "version": 3
   },
   "file_extension": ".py",
   "mimetype": "text/x-python",
   "name": "python",
   "nbconvert_exporter": "python",
   "pygments_lexer": "ipython3",
   "version": "3.8.3"
  }
 },
 "nbformat": 4,
 "nbformat_minor": 4
}
