{
 "cells": [
  {
   "cell_type": "raw",
   "metadata": {},
   "source": [
    "Day 1 \n",
    "problem 1.."
   ]
  },
  {
   "cell_type": "code",
   "execution_count": 8,
   "metadata": {},
   "outputs": [
    {
     "name": "stdout",
     "output_type": "stream",
     "text": [
      "Select a correct word for this jumble word OBANWRI\n",
      "option 1- \"RANIBOW\" \n",
      "Option 2- \"RAINBOW\" \n",
      "Option 3- \"BOWRANI\" \n",
      "Option 4- \"ROBWANI\"RAINBOW\n",
      "Correct\n"
     ]
    }
   ],
   "source": [
    "str1 ='OBANWRI'\n",
    "print('Select a correct word for this jumble word',str1)\n",
    "while(True):\n",
    "    select =input('option 1- \"RANIBOW\" \\nOption 2- \"RAINBOW\" \\nOption 3- \"BOWRANI\" \\nOption 4- \"ROBWANI\"')\n",
    "    if select =='RAINBOW':\n",
    "        print('Correct')\n",
    "        break\n",
    "    else:\n",
    "        print('Try Again')\n",
    "\n"
   ]
  },
  {
   "cell_type": "raw",
   "metadata": {},
   "source": [
    "problem 2"
   ]
  },
  {
   "cell_type": "code",
   "execution_count": 14,
   "metadata": {},
   "outputs": [
    {
     "name": "stdout",
     "output_type": "stream",
     "text": [
      "LETS UPGRADE\n"
     ]
    }
   ],
   "source": [
    "str1 = 'lets upgrade'\n",
    "print(str1.upper())\n",
    "\n",
    "\n"
   ]
  },
  {
   "cell_type": "raw",
   "metadata": {},
   "source": [
    "problem 3"
   ]
  },
  {
   "cell_type": "code",
   "execution_count": 16,
   "metadata": {},
   "outputs": [
    {
     "name": "stdout",
     "output_type": "stream",
     "text": [
      "20\n",
      "10\n",
      "Loss\n"
     ]
    }
   ],
   "source": [
    "cost_price = float(input())\n",
    "selling_price = float(input())\n",
    "if cost_price > selling_price:\n",
    "    print('Loss')\n",
    "elif cos_price < selling_price:\n",
    "    print('Profit')\n",
    "else:\n",
    "    print('Neither')\n"
   ]
  },
  {
   "cell_type": "raw",
   "metadata": {},
   "source": [
    "problem 4"
   ]
  },
  {
   "cell_type": "code",
   "execution_count": 18,
   "metadata": {},
   "outputs": [
    {
     "name": "stdout",
     "output_type": "stream",
     "text": [
      "80\n",
      "6400\n"
     ]
    }
   ],
   "source": [
    "Euro = int(input())\n",
    "Rupee = Euro*80\n",
    "print(Rupee)"
   ]
  },
  {
   "cell_type": "code",
   "execution_count": null,
   "metadata": {},
   "outputs": [],
   "source": []
  }
 ],
 "metadata": {
  "kernelspec": {
   "display_name": "Python 3",
   "language": "python",
   "name": "python3"
  },
  "language_info": {
   "codemirror_mode": {
    "name": "ipython",
    "version": 3
   },
   "file_extension": ".py",
   "mimetype": "text/x-python",
   "name": "python",
   "nbconvert_exporter": "python",
   "pygments_lexer": "ipython3",
   "version": "3.8.3"
  }
 },
 "nbformat": 4,
 "nbformat_minor": 4
}
